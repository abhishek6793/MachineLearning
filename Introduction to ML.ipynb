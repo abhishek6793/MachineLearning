{
 "cells": [
  {
   "cell_type": "markdown",
   "metadata": {},
   "source": [
    "\n",
    "# Machine Learning\n",
    "- Machine Learning is a subset of artificial intelligence. It focuses mainly on the designing of systems, thereby allowing them to learn and make predictions based on some experience which is data in case of machine.\n",
    "<img src = 'http://www.expertsystem.com/wp-content/uploads/2017/03/What-is-machine-learning_Definition.jpg'>\n",
    "\n",
    "# AI vs ML vs DL\n",
    "<img src ='https://cdn-images-1.medium.com/max/1200/1*TiORvHgrJPme_lEiX3olVA.png'>\n",
    "\n",
    "\n",
    "- Artificial Intelligence: A technique which enables machine to mimic human behavior.\n",
    "- Machine Learning: Subset of AI technique which use statistical methods to enable machines to improve with experience.\n",
    "- Deep Learning: Subset of ML, which make the computation of multi-layer neural network feasible."
   ]
  },
  {
   "cell_type": "markdown",
   "metadata": {},
   "source": [
    "## How does Machine Learning Work?\n",
    "<img src='https://www.7wdata.be/wp-content/uploads/2017/06/Machine-Learning-Examplepng.png'>"
   ]
  },
  {
   "cell_type": "markdown",
   "metadata": {},
   "source": [
    "## Machine Learning Types:\n",
    "<img src = 'https://cdn-images-1.medium.com/max/2000/1*8wU0hfUY3UK_D8Y7tbIyFQ.png'>\n",
    "\n",
    "**SuperVised ML:** This is a process of an algorithm learning from the **training** dataset\n",
    "\n",
    "**Unsupervised ML:** This is a process where a model is trained using an information which is **not labelled**\n",
    "\n",
    "**Reinforcement ML:** Reinforcement learning is learning by interacting with a **space** and/or an **environment** "
   ]
  },
  {
   "cell_type": "markdown",
   "metadata": {},
   "source": [
    "# 1.Supervised Learning\n",
    "- With supervised learning, you feed the output of your algorithm into the system. This means that in supervised learning, the machine already knows the output of the algorithm before it starts working on it or learning it. A basic example of this concept would be a student learning a course from an instructor. The student knows what he/she is learning from the course.\n",
    "\n",
    "- With the output of the algorithm known, all that a system needs to do is to work out the steps or process needed to reach from the input to the output. The algorithm is being taught through a training data set that guides the machine. If the process goes haywire and the algorithms come up with results completely different than what should be expected, then the training data does its part to guide the algorithm back towards the right path.\n",
    "\n",
    "- Supervised Machine Learning currently makes up most of the ML that is being used by systems across the world. The input variable (x) is used to connect with the output variable (y) through the use of an algorithm. All of the input, the output, the algorithm, and the scenario are being provided by humans. We can understand supervised learning in an even better way by looking at it through two types of problems.\n",
    "\n",
    "- **Classification:** Classification problems categorize all the variables that form the output. Examples of these categories formed through classification would include demographic data such as marital status, sex, or age. The most common model used for this type of service status is the support vector machine. The support vector machines set forth to define the linear decision boundaries.\n",
    "\n",
    "- **Regression:** Problems that can be classified as regression problems include types where the output variables are set as a real number. The format for this problem often follows a linear format.\n",
    "<img src='https://techtrip.co.in/sites/default/files/2018-10/supervised%20learning.png'>\n",
    "\n",
    "\n",
    "**Examples:**\n",
    "- Linear Regression\n",
    "- Support Vector Machines\n",
    "- Random Forest\n",
    "\n",
    "**Application:**\n",
    "- Cortona\n",
    "- Weather Prediction\n",
    "- Biometric Identification\n",
    "\n",
    "- **Banking Sector:** Predict credit worthiness of credit card holders\n",
    "- **Health Sector:** Predict pateinet readmission rates\n",
    "- **Retail Sector:** Analyze products customers buy together"
   ]
  },
  {
   "cell_type": "markdown",
   "metadata": {},
   "source": [
    "## 2. Unsupervised Learning\n",
    "- Despite the fact that unsupervised learning has not been implemented on a wider scale yet, this methodology forms the future behind Machine Learning and its possibilities. We always talk about ML bringing forth unlimited opportunities in the future, but fail to grasp the detail behind the statements made. Whenever people talk about computers and machines developing the ability to “teach themselves” in a seamless manner, rather than us humans having to do the honor, they are in a way alluding to the processes involved in unsupervised learning.\n",
    "\n",
    "- During the process of unsupervised learning, the system does not have concrete data sets, and the outcomes to most of the problems are largely unknown. In simple terminology, the AI system and the ML objective is blinded when it goes into the operation. The system has its faultless and immense logical operations to guide it along the way, but the lack of proper input and output algorithms makes the process even more challenging. Incredible as the whole process may sound, unsupervised learning has the ability to interpret and find solutions to a limitless amount of data, through the input data and the binary logic mechanism present in all computer systems. The system has no reference data at all.\n",
    "- Since we expect readers to have a basic imagery of unsupervised learning by now, it would be pertinent to make the understanding even simpler through the use of an example. Just consider that we have a digital image that has a variety of colored geometric shapes on it. These geometric shapes needed to be matched into groups according to color and other classification features. For a system that follows supervised learning, this whole process is a bit too simple.\n",
    "\n",
    "- The procedure is extremely straightforward, as you just have to teach the computer all the details pertaining to the figures. You can let the system know that all shapes with four sides are known as squares, and others with eight sides are known as octagons, etc. We can also teach the system to interpret the colors and see how the light being given out is classified.\n",
    "\n",
    "- However, in unsupervised learning, the whole process becomes a little trickier. The algorithm for an unsupervised learning system has the same input data as the one for its supervised counterpart (in our case, digital images showing shapes in different colors).\n",
    "\n",
    "- Once it has the input data, the system learns all it can from the information at hand. In fact, the system works by itself to recognize the problem of classification and also the difference in shapes and colors. With information related to the problem at hand, the unsupervised learning system will then recognize all similar objects, and group them together. The labels that it will give to these objects will be designed by the machine itself. Technically, there are bound to be wrong answers, since there is a certain degree of probability. However, just like how we humans work, the strength of machine learning lies in its ability to recognize mistakes, learn from them, and to eventually make better estimations next time around.\n",
    "<img src = 'https://community.singularitynet.io/uploads/db8677/original/1X/3f814ab62d70a1013e1e23bef356f941bdeff44e.jpg' >\n",
    "\n",
    "**Examples:**\n",
    "- Apriori Algorithm\n",
    "- K-Means Algorithm\n",
    "- Hierarchial Clustering\n",
    "\n",
    "**Applications:**\n",
    "- **Banking Sector:** Segment customers by behavioural characteristics\n",
    "- **Health Sector:** Categorize MRI data by normal or Abnormal\n",
    "- **Retail Sector:** Recommend products to customers based on past purchase"
   ]
  },
  {
   "cell_type": "markdown",
   "metadata": {},
   "source": [
    "## 3. Reinforcement Machine Learning\n",
    "- Reinforcement Learning is another part of Machine Learning that is gaining a lot of prestige in how it helps the machine learn from its progress. Readers who have studied psychology in college would be able to relate to this concept on a better level.\n",
    "- Reinforcement Learning spurs off from the concept of Unsupervised Learning, and gives a high sphere of control to software agents and machines to determine what the ideal behavior within a context can be. This link is formed to maximize the performance of the machine in a way that helps it to grow. Simple feedback that informs the machine about its progress is required here to help the machine learn its behavior.\n",
    "\n",
    "- Reinforcement Learning is not simple, and is tackled by a plethora of different algorithms. As a matter of fact, in Reinforcement Learning an agent decides the best action based on the current state of the results.\n",
    "\n",
    "- The growth in Reinforcement Learning has led to the production of a wide variety of algorithms that help machines learn the outcome of what they are doing. Since we have a basic understanding of Reinforcement Learning by now, we can get a better grasp by forming a comparative analysis between Reinforcement Learning and the concepts of Supervised and Unsupervised Learning that we have studied in detail before.\n",
    "\n",
    "<img src = 'https://bigdata-madesimple.com/wp-content/uploads/2018/02/Machine-Learning-Explained3.png'>\n",
    "\n",
    "**Applications**\n",
    "- **Banking Sector:** Create 'Next Best Offer' model for the call centre\n",
    "- **Health Sector:** Allocate scarce medical resources to handle different ER cases\n",
    "- **Retail Sector:** Reduce excess stock with dynamic pricing"
   ]
  },
  {
   "cell_type": "markdown",
   "metadata": {},
   "source": [
    "## >> Supervised vs Reinforcement Learning: \n",
    "- In Supervised Learning we have an external supervisor who has sufficient knowledge of the environment and also shares the learning with a supervisor to form a better understanding and complete the task, but since we have problems where the agent can perform so many different kind of subtasks by itself to achieve the overall objective, the presence of a supervisor is unnecessary and impractical. We can take up the example of a chess game, where the player can play tens of thousands of moves to achieve the ultimate objective. Creating a knowledge base for this purpose can be a really complicated task. Thus, it is imperative that in such tasks, the computer learn how to manage affairs by itself. It is hence more feasible and pertinent for the machine to learn from its own experience. Once the machine has started learning from its own experience, it can then gain knowledge from these experiences to implement in the future moves. This is probably the biggest and most imperative difference between the concepts of reinforcement and supervised learning. In both these learning types, there is a certain type of mapping between the output and input. But in the concept of Reinforcement Learning, there is an exemplary reward function, unlike Supervised Learning, that lets the system know about its progress down the right path.\n",
    "\n",
    "## >> Reinforcement vs. Unsupervised Learning: \n",
    "- Reinforcement Learning basically has a mapping structure that guides the machine from input to output. However, Unsupervised Learning has no such features present in it. In Unsupervised Learning, the machine focuses on the underlying task of locating the patterns rather than the mapping for progressing towards the end goal. For example, if the task for the machine is to suggest a good news update to a user, a Reinforcement Learning algorithm will look to get regular feedback from the user in question, and would then through the feedback build a reputable knowledge graph of all news related articles that the person may like. On the contrary, an Unsupervised Learning algorithm will try looking at many other articles that the person has read, similar to this one, and suggest something that matches the user’s preferences."
   ]
  },
  {
   "cell_type": "markdown",
   "metadata": {},
   "source": [
    "## Top 10 Applications of Machine Learning\n",
    "1. Google Maps : Faster Route Selection\n",
    "9. Facebook : Auto Friend Tagging\n",
    "8. Uber\n",
    "7. Amazon Ads Recommendation\n",
    "6. iPhone\n",
    "5. Tesla\n",
    "4. NetFlix Recommendation\n",
    "3. Moley : The Robotic Chef\n",
    "2. Google Translate\n",
    "1. KuKa : The Robotic Arm"
   ]
  },
  {
   "cell_type": "code",
   "execution_count": null,
   "metadata": {},
   "outputs": [],
   "source": []
  }
 ],
 "metadata": {
  "kernelspec": {
   "display_name": "Python 3",
   "language": "python",
   "name": "python3"
  },
  "language_info": {
   "codemirror_mode": {
    "name": "ipython",
    "version": 3
   },
   "file_extension": ".py",
   "mimetype": "text/x-python",
   "name": "python",
   "nbconvert_exporter": "python",
   "pygments_lexer": "ipython3",
   "version": "3.6.7"
  }
 },
 "nbformat": 4,
 "nbformat_minor": 2
}
