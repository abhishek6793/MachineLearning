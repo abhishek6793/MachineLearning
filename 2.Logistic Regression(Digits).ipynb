{
 "cells": [
  {
   "cell_type": "markdown",
   "metadata": {},
   "source": [
    "# Logistic Regression\n",
    "- Surviving the Titanic\n",
    "\n",
    "- Suppose, you have to build a model to predict how many people survived the Titanic shipwrek\n",
    "\n",
    "*We have details like\n",
    "1. ID\n",
    "2. Survived\n",
    "3. Class\n",
    "4. Name\n",
    "5. Sex\n",
    "6. Age\n",
    "7. Siblings\n",
    "8. Parents/children abroad\n",
    "9. Ticket\n",
    "10. Fare\n",
    "etc....,\n",
    "\n",
    "\n",
    "- Teaching the model with the passenger dataset\n",
    "\n",
    "- Dropping the non-essential components of the dataset\n",
    "\n",
    "- Determining the survival of passengers and evaluating the model"
   ]
  },
  {
   "cell_type": "markdown",
   "metadata": {},
   "source": [
    "### What is Logistic Regression\n",
    "\n",
    "- Probability can be between 0-1(No/Yes\n",
    "- Threshold must be set\n",
    "- Above 0.5 can be 1\n",
    "- Below 0.5 can be 0\n",
    "- Data are discrete in nature"
   ]
  },
  {
   "cell_type": "markdown",
   "metadata": {},
   "source": [
    "### The math behing Logistic Regression\n",
    "- To understand Logistic Regression,let's see the odds of success\n",
    "\n",
    "$$ Odds (\\theta) = \\frac{Probability\\; of\\; an\\; event\\; happening}{Probability\\; of\\; an\\; event\\; not\\;happening} $$\n",
    "\n",
    "$$Or$$\n",
    "\n",
    "$$ Odds (\\theta) = \\frac{P}{1 - P}$$\n",
    "\n",
    "- $The\\; values\\; of\\; odds\\; range\\; from\\;  0-\\infty$\n",
    "\n",
    "- $The\\; values\\; of\\; probability\\; changes\\; from\\;  0-1$\n",
    "\n",
    "\n",
    "- $The\\; equation\\; of\\; straight\\; line\\; would\\;be\\;  y=\\beta_0 + \\beta_1x$\n",
    "\n",
    "\n",
    "### Now, we predict the odds of success\n",
    "$$\\log\\bigg(\\frac{P(x)}{1 - P(x)}\\bigg) = \\beta_0 + \\beta_1x$$\n",
    "\n",
    "### Exponentiating both sides:\n",
    "$$  \\normalsize e^{ln}\\bigg(\\frac{P(x)}{1 - P(x)}\\bigg) = e^{\\beta_0 + \\beta_1x} $$\n",
    "\n",
    "$$\\bigg(\\frac{P(x)}{1 - P(x)}\\bigg) = e^{\\beta_0 + \\beta_1x}$$\n",
    "\n",
    "\n",
    "#### $$ \\large Let\\;Y=e^{\\beta_0 + \\beta_1x} $$\n",
    "\n",
    "$$ Then\\;\\bigg(\\frac{P(x)}{1 - P(x)}\\bigg)=Y$$\n",
    "\n",
    "$$p(x) = Y\\big(1-p(x)\\big)$$\n",
    "\n",
    "$$p(x) = Y-Y\\big(p(x)\\big)$$\n",
    "\n",
    "$$p(x)+Y\\big(p(x)\\big)=Y$$\n",
    "\n",
    "$$p(x)(1+Y)=Y$$\n",
    "\n",
    "$$ p(x)=\\frac{Y}{1+Y}$$\n",
    "\n",
    "$$\\large p(x)=\\frac{e^{\\beta_0 + \\beta_1x}} {1+e^{\\beta_0 + \\beta_1x}}$$\n",
    "\n",
    "### The equation of a sigmoid function:\n",
    "$$\\large p(x)=\\frac{e^{\\beta_0 + \\beta_1x}} {1+e^{\\beta_0 + \\beta_1x}}$$\n",
    "\n",
    "$$\\large p(x)= \\frac{1} {{1+e^{-(\\beta_0 + \\beta_1x)}}}$$"
   ]
  },
  {
   "cell_type": "code",
   "execution_count": 24,
   "metadata": {},
   "outputs": [],
   "source": [
    "from sklearn.datasets import load_digits\n",
    "from sklearn.model_selection import train_test_split\n",
    "import numpy as np\n",
    "import matplotlib.pyplot as plt\n",
    "import seaborn as sns\n",
    "from sklearn import metrics\n",
    "%matplotlib inline"
   ]
  },
  {
   "cell_type": "code",
   "execution_count": 25,
   "metadata": {},
   "outputs": [],
   "source": [
    "digits=load_digits()"
   ]
  },
  {
   "cell_type": "code",
   "execution_count": 26,
   "metadata": {},
   "outputs": [
    {
     "name": "stdout",
     "output_type": "stream",
     "text": [
      "Image Data Shape (1797, 64)\n",
      "Label Data Shape (1797,)\n"
     ]
    }
   ],
   "source": [
    "print(\"Image Data Shape\",digits.data.shape)\n",
    "print(\"Label Data Shape\",digits.target.shape)"
   ]
  },
  {
   "cell_type": "code",
   "execution_count": 27,
   "metadata": {
    "scrolled": true
   },
   "outputs": [
    {
     "data": {
      "image/png": "[encoded data removed]",
      "text/plain": [
       "<Figure size 1440x288 with 5 Axes>"
      ]
     },
     "metadata": {
      "needs_background": "light"
     },
     "output_type": "display_data"
    }
   ],
   "source": [
    "plt.figure(figsize=(20,4))\n",
    "for index,(image,label) in enumerate (zip(digits.data[0:5],digits.target[0:5])):\n",
    "    plt.subplot(1,5,index+1)\n",
    "    plt.imshow(np.reshape(image,(8,8)),cmap=plt.cm.gray)\n",
    "    plt.title(\"Training: %i\\n\" % label,fontsize=20)"
   ]
  },
  {
   "cell_type": "code",
   "execution_count": 28,
   "metadata": {},
   "outputs": [],
   "source": [
    "x_train,x_test,y_train,y_test=train_test_split(digits.data,digits.target,test_size=0.23,random_state=2)"
   ]
  },
  {
   "cell_type": "code",
   "execution_count": 29,
   "metadata": {},
   "outputs": [
    {
     "name": "stdout",
     "output_type": "stream",
     "text": [
      "x_train.shape (1383, 64)\n",
      "y_train.shape (1383,)\n",
      "x_test.shape (414, 64)\n",
      "y_test.shape (414,)\n"
     ]
    }
   ],
   "source": [
    "print(\"x_train.shape\",x_train.shape)\n",
    "print(\"y_train.shape\",y_train.shape)\n",
    "print(\"x_test.shape\",x_test.shape)\n",
    "print(\"y_test.shape\",y_test.shape)"
   ]
  },
  {
   "cell_type": "code",
   "execution_count": 30,
   "metadata": {},
   "outputs": [
    {
     "name": "stderr",
     "output_type": "stream",
     "text": [
      "C:\\ProgramData\\Anaconda3\\lib\\site-packages\\sklearn\\linear_model\\logistic.py:432: FutureWarning: Default solver will be changed to 'lbfgs' in 0.22. Specify a solver to silence this warning.\n",
      "  FutureWarning)\n",
      "C:\\ProgramData\\Anaconda3\\lib\\site-packages\\sklearn\\linear_model\\logistic.py:459: FutureWarning: Default multi_class will be changed to 'auto' in 0.22. Specify the multi_class option to silence this warning.\n",
      "  \"this warning.\", FutureWarning)\n"
     ]
    },
    {
     "data": {
      "text/plain": [
       "LogisticRegression(C=1.0, class_weight=None, dual=False, fit_intercept=True,\n",
       "          intercept_scaling=1, max_iter=100, multi_class='warn',\n",
       "          n_jobs=None, penalty='l2', random_state=None, solver='warn',\n",
       "          tol=0.0001, verbose=0, warm_start=False)"
      ]
     },
     "execution_count": 30,
     "metadata": {},
     "output_type": "execute_result"
    }
   ],
   "source": [
    "from sklearn.linear_model import LogisticRegression\n",
    "\n",
    "LR=LogisticRegression()\n",
    "LR.fit(x_train,y_train)"
   ]
  },
  {
   "cell_type": "code",
   "execution_count": 38,
   "metadata": {},
   "outputs": [
    {
     "name": "stdout",
     "output_type": "stream",
     "text": [
      "[9]\n"
     ]
    }
   ],
   "source": [
    "#Predicting the output of the first element of the test set\n",
    "print(LR.predict(x_test[2].reshape(1,-1)))"
   ]
  },
  {
   "cell_type": "code",
   "execution_count": 39,
   "metadata": {},
   "outputs": [
    {
     "name": "stdout",
     "output_type": "stream",
     "text": [
      "[4 0 9 1 8 7 1 5 1 6]\n"
     ]
    }
   ],
   "source": [
    "#Predicting the output of the first 10 element of the test set\n",
    "print(LR.predict(x_test[0:10]))"
   ]
  },
  {
   "cell_type": "code",
   "execution_count": 40,
   "metadata": {},
   "outputs": [],
   "source": [
    "#Predictions for the entire set\n",
    "predictions = LR.predict(x_test)"
   ]
  },
  {
   "cell_type": "code",
   "execution_count": 42,
   "metadata": {},
   "outputs": [
    {
     "name": "stdout",
     "output_type": "stream",
     "text": [
      "94.20289855072464\n"
     ]
    }
   ],
   "source": [
    "#Determining the accuracy\n",
    "score=LR.score(x_test,y_test)\n",
    "print(score*100)"
   ]
  },
  {
   "cell_type": "code",
   "execution_count": 46,
   "metadata": {},
   "outputs": [
    {
     "name": "stdout",
     "output_type": "stream",
     "text": [
      "[[38  0  0  0  0  0  0  0  0  0]\n",
      " [ 0 44  0  1  0  0  0  0  2  1]\n",
      " [ 0  0 43  0  0  0  0  0  0  0]\n",
      " [ 0  0  0 37  0  0  0  3  2  0]\n",
      " [ 0  2  0  0 34  0  0  0  1  1]\n",
      " [ 0  0  0  0  0 46  0  0  0  0]\n",
      " [ 0  0  0  0  0  0 40  0  1  0]\n",
      " [ 0  0  0  0  0  0  0 45  1  0]\n",
      " [ 0  2  0  0  0  0  0  0 35  1]\n",
      " [ 0  0  0  1  0  1  0  1  3 28]]\n"
     ]
    }
   ],
   "source": [
    "cm = metrics.confusion_matrix(y_test,predictions)\n",
    "print(cm)"
   ]
  },
  {
   "cell_type": "code",
   "execution_count": 47,
   "metadata": {},
   "outputs": [
    {
     "data": {
      "text/plain": [
       "Text(0.5, 1.0, 'Accuracy score: 0.9420289855072463')"
      ]
     },
     "execution_count": 47,
     "metadata": {},
     "output_type": "execute_result"
    },
    {
     "data": {
      "image/png": "[encoded data removed]",
      "text/plain": [
       "<Figure size 648x648 with 2 Axes>"
      ]
     },
     "metadata": {
      "needs_background": "light"
     },
     "output_type": "display_data"
    }
   ],
   "source": [
    "#Representing the confusion matrix in heatmap\n",
    "plt.figure(figsize=(9,9))\n",
    "sns.heatmap(cm,annot=True,fmt='.3f',linewidth=.5,square=True,cmap='Blues_r')\n",
    "plt.ylabel(\"Actual label\")\n",
    "plt.xlabel(\"Predicted label\")\n",
    "all_sample_title=\"Accuracy score: {0}\" .format(score)\n",
    "plt.title(all_sample_title,size=15)"
   ]
  },
  {
   "cell_type": "code",
   "execution_count": 49,
   "metadata": {},
   "outputs": [
    {
     "data": {
      "image/png": "[encoded data removed]",
      "text/plain": [
       "<Figure size 1440x216 with 4 Axes>"
      ]
     },
     "metadata": {
      "needs_background": "light"
     },
     "output_type": "display_data"
    }
   ],
   "source": [
    "index = 0\n",
    "classifiedIndex=[]\n",
    "for predict,actual in zip(predictions,y_test):\n",
    "    if predict==actual:\n",
    "        classifiedIndex.append(index)\n",
    "    index=+1\n",
    "plt.figure(figsize=(20,3))\n",
    "for plotIndex,wrong in enumerate(classifiedIndex[0:4]):\n",
    "    plt.subplot(1,4,plotIndex +1)\n",
    "    plt.imshow(np.reshape(x_test[wrong],(8,8)),cmap=plt.cm.gray)\n",
    "    plt.title(\"predicted:{},Actual:{}\".format(predictions[wrong],y_test[wrong]),fontsize=20)"
   ]
  },
  {
   "cell_type": "code",
   "execution_count": null,
   "metadata": {},
   "outputs": [],
   "source": []
  }
 ],
 "metadata": {
  "kernelspec": {
   "display_name": "Python 3",
   "language": "python",
   "name": "python3"
  },
  "language_info": {
   "codemirror_mode": {
    "name": "ipython",
    "version": 3
   },
   "file_extension": ".py",
   "mimetype": "text/x-python",
   "name": "python",
   "nbconvert_exporter": "python",
   "pygments_lexer": "ipython3",
   "version": "3.6.7"
  }
 },
 "nbformat": 4,
 "nbformat_minor": 2
}
