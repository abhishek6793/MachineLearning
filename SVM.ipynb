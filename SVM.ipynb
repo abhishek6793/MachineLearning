{
 "cells": [
  {
   "cell_type": "markdown",
   "metadata": {},
   "source": [
    "# What is Support Vector Machine?\n",
    "- “Support Vector Machine” (SVM) is a supervised machine learning algorithm which can be used for both classification or regression challenges. However,  it is mostly used in classification problems. In this algorithm, we plot each data item as a point in n-dimensional space (where n is number of features you have) with the value of each feature being the value of a particular coordinate. Then, we perform classification by finding the hyper-plane that differentiate the two classes very well\n",
    "<img src = 'https://dataincognita.files.wordpress.com/2017/12/example1.png?w=723'>\n",
    "Support Vectors are simply the co-ordinates of individual observation. Support Vector Machine is a frontier which best segregates the two classes (hyper-plane/ line)."
   ]
  },
  {
   "attachments": {},
   "cell_type": "markdown",
   "metadata": {},
   "source": [
    "# How does it work?\n",
    "The objective of the support vector machine algorithm is to find a hyperplane in an N-dimensional space(N — the number of features) that distinctly classifies the data points.- \n",
    "![alt-text-1](https://cdn-images-1.medium.com/max/750/0*9jEWNXTAao7phK-5.png) \n",
    "![alt-text-2](https://cdn-images-1.medium.com/max/750/0*0o8xIA4k3gXUDCFU.png)\n",
    "To separate the two classes of data points, there are many possible hyperplanes that could be chosen. Our objective is to find a plane that has the maximum margin, i.e the maximum distance between data points of both classes. Maximizing the margin distance provides some reinforcement so that future data points can be classified with more confidence.\n",
    "\n",
    "\n",
    "## What is a Support Vector Machine?\n",
    "\n",
    "It's a supervised machine learning algorithm which can be used for both classification or regression problems. But it's usually used for classification. Given 2 or more labeled classes of data, it acts as a discriminative classifier, formally defined by an optimal hyperplane that seperates all the classes. New examples that are then mapped into that same space can then be categorized based on on which side of the gap they fall.\n",
    "\n",
    "## What are Support Vectors?\n",
    "\n",
    "![alt text](https://www.dtreg.com/uploaded/pageimg/SvmMargin2.jpg \"Logo Title Text 1\")\n",
    " \n",
    "Support vectors are the data points nearest to the hyperplane, the points of a data set that, if removed, would alter the position of the dividing hyperplane. Because of this, they can be considered the critical elements of a data set, they are what help us build our SVM. \n",
    "\n",
    "## Whats a hyperplane?\n",
    "\n",
    "![alt text](http://slideplayer.com/slide/1579281/5/images/32/Hyperplanes+as+decision+surfaces.jpg \"Logo Title Text 1\")\n",
    "\n",
    "Geometry tells us that a hyperplane is a subspace of one dimension less than its ambient space. For instance, a hyperplane of an n-dimensional space is a flat subset with dimension n − 1. By its nature, it separates the space into two half spaces.\n",
    "\n",
    "## Linear vs nonlinear classification?\n",
    "\n",
    "Sometimes our data is linearly seperable. That means for N classes with M features, we can learn a mapping that is a linear combination. (like y = mx + b). Or even a multidimensional hyperplane (y = x + z + b + q). No matter how many dimensions/features a set of classes have, we can represent the mapping using a linear function.\n",
    "\n",
    "But sometimes its not. Like if there was a quadratic mapping. Luckily for us SVMs can can efficiently perform a non-linear classification using what is called the kernel trick.\n",
    "\n",
    "<img src = 'https://blog-c7ff.kxcdn.com/blog/wp-content/uploads/2017/02/kernel.png'>"
   ]
  },
  {
   "cell_type": "markdown",
   "metadata": {},
   "source": [
    "## SVM Kernels\n",
    "1. Polynomial kernel\n",
    "It is popular in image processing,Equation is: \n",
    "\n",
    "<img src ='https://data-flair.training/blogs/wp-content/uploads/sites/2/2017/08/polynomial-kernel.png'>\n",
    "2. Gaussian kernel\n",
    "It is a general-purpose kernel; used when there is no prior knowledge about the data,Equation is:\n",
    "<img src = ''https://data-flair.training/blogs/wp-content/uploads/sites/2/2017/08/gaussian-kernel.png>\n",
    "3. Gaussian radial basis function (RBF)\n",
    "It is a general-purpose kernel; used when there is no prior knowledge about the data,Equation is:\n",
    "<img src = 'https://data-flair.training/blogs/wp-content/uploads/sites/2/2017/08/gaussian-radial-basis-function-RBF.png'>\n",
    ", for:\n",
    "<img src = 'https://data-flair.training/blogs/wp-content/uploads/sites/2/2017/08/gaussian-radial-basis-function-RBF-1.png'>\n",
    "Sometimes parametrized using:\n",
    "<img src = 'https://data-flair.training/blogs/wp-content/uploads/sites/2/2017/08/gaussian-radial-basis-function-RBF-2.png'>\n",
    "4. Laplace RBF kernel\n",
    "It is general-purpose kernel; used when there is no prior knowledge about the data,Equation is:\n",
    "<img src = 'https://data-flair.training/blogs/wp-content/uploads/sites/2/2017/08/laplace-RBF-kernel.png'>\n",
    "5. Hyperbolic tangent kernel\n",
    "We can use it in neural networks,Equation is:\n",
    "<img src = 'https://data-flair.training/blogs/wp-content/uploads/sites/2/2017/08/hyperbolic-tangent-kernel.png'>\n",
    ", for some (not every) k>0 and c<0.\n",
    "6. Sigmoid kernel\n",
    "We can use it as the proxy for neural networks,Equation is\n",
    "<img src = 'https://data-flair.training/blogs/wp-content/uploads/sites/2/2017/08/sigmoid-kernel.png'>\n",
    "7. Bessel function of the first kind Kernel\n",
    "We can use it to remove the cross term in mathematical functions,Equation is:\n",
    "<img src = 'https://data-flair.training/blogs/wp-content/uploads/sites/2/2017/08/bessel-function.png'>\n",
    "8. ANOVA radial basis kernel\n",
    "We can use it in regression problems,Equation is:\n",
    "<img src = 'https://data-flair.training/blogs/wp-content/uploads/sites/2/2017/08/ANOVA-radial-basis-kernel.png'>\n",
    "9. Linear splines kernel in one-dimension\n",
    "It is useful when dealing with large sparse data vectors. It is often used in text categorization. The splines kernel also performs well in regression problems,Equation is:\n",
    "<img src= 'https://data-flair.training/blogs/wp-content/uploads/sites/2/2017/08/linear-splines-kernel-in-one-dimension.png'>\n",
    "\n",
    "<img src = 'https://i.stack.imgur.com/XXbdy.png'>\n"
   ]
  },
  {
   "cell_type": "markdown",
   "metadata": {},
   "source": [
    "# Applications\n",
    "1. Face Detection\n",
    "2. Text and hypertext Categorization\n",
    "3. Classification of images\n",
    "4. Bioinformatics\n",
    "5. Financial analysis\n",
    "\n",
    "# Advantages\n",
    "1. High dimensional input space\n",
    "2. Sparse document vectors\n",
    "3. Regularization parameter\n",
    "\n",
    "# Disadvantages\n",
    "1. Poor performance when number of features is greater than number of samples\n",
    "2. SVMs do not provide probaility estimates"
   ]
  },
  {
   "cell_type": "markdown",
   "metadata": {},
   "source": [
    "# Use Case-Implementation\n",
    "- Differentiating between crocodile and alligators"
   ]
  },
  {
   "cell_type": "code",
   "execution_count": 1,
   "metadata": {},
   "outputs": [],
   "source": [
    "import numpy as np\n",
    "import matplotlib.pyplot as plt\n",
    "from sklearn import svm\n",
    "from sklearn.datasets.samples_generator import make_blobs"
   ]
  },
  {
   "cell_type": "code",
   "execution_count": 2,
   "metadata": {},
   "outputs": [],
   "source": [
    "#We create 40 seperable points\n",
    "X,y = make_blobs(n_samples=40, centers=2, random_state=20)"
   ]
  },
  {
   "cell_type": "code",
   "execution_count": 21,
   "metadata": {},
   "outputs": [
    {
     "data": {
      "text/plain": [
       "<matplotlib.collections.PathCollection at 0x1d8a86466d8>"
      ]
     },
     "execution_count": 21,
     "metadata": {},
     "output_type": "execute_result"
    },
    {
     "data": {
      "image/png": "[encoded data removed]",
      "text/plain": [
       "<Figure size 432x288 with 1 Axes>"
      ]
     },
     "metadata": {
      "needs_background": "light"
     },
     "output_type": "display_data"
    }
   ],
   "source": [
    "#Fit the model\n",
    "clf= svm.SVC(kernel='linear', C=1)\n",
    "clf.fit(X,y)\n",
    "plt.scatter(X[:,0],X[:,1],c=y, s=20, cmap=plt.cm.Paired)\n",
    "plt.show()"
   ]
  },
  {
   "cell_type": "code",
   "execution_count": 14,
   "metadata": {},
   "outputs": [
    {
     "name": "stdout",
     "output_type": "stream",
     "text": [
      "[0 1]\n"
     ]
    }
   ],
   "source": [
    "newdata=[[3,4],[5,6]]\n",
    "print(clf.predict(newdata))"
   ]
  },
  {
   "cell_type": "code",
   "execution_count": 22,
   "metadata": {},
   "outputs": [
    {
     "data": {
      "image/png": "[encoded data removed]",
      "text/plain": [
       "<Figure size 432x288 with 1 Axes>"
      ]
     },
     "metadata": {
      "needs_background": "light"
     },
     "output_type": "display_data"
    }
   ],
   "source": [
    "#Fit the model\n",
    "clf= svm.SVC(kernel='linear', C=1)\n",
    "clf.fit(X,y)\n",
    "plt.scatter(X[:,0],X[:,1],c=y, s=20, cmap=plt.cm.Paired)\n",
    "\n",
    "#Plot the decision function\n",
    "ax = plt.gca()\n",
    "xlim = ax.get_xlim()\n",
    "ylim = ax.get_ylim()\n",
    "\n",
    "#Create grid to evaluate model\n",
    "xx=np.linspace(xlim[0],xlim[1],30)\n",
    "yy=np.linspace(ylim[0],ylim[1],30)\n",
    "YY,XX = np.meshgrid(yy,xx)\n",
    "xy = np.vstack([XX.ravel(),YY.ravel()]).T\n",
    "Z = clf.decision_function(xy).reshape(XX.shape)\n",
    "\n",
    "#PLOT DECISION BOUNDARY AND MARGINS\n",
    "ax.contour(XX,YY,Z, colors='k',levels=[-1,0,1],alpha=0.5,linestyles=['--','-','--'])\n",
    "\n",
    "#Plot support Vectors\n",
    "ax.scatter(clf.support_vectors_[:,0], clf.support_vectors_[:,1],s=100,linewidth=1,facecolors='none')\n",
    "plt.show()"
   ]
  },
  {
   "cell_type": "code",
   "execution_count": null,
   "metadata": {},
   "outputs": [],
   "source": []
  }
 ],
 "metadata": {
  "kernelspec": {
   "display_name": "Python 3",
   "language": "python",
   "name": "python3"
  },
  "language_info": {
   "codemirror_mode": {
    "name": "ipython",
    "version": 3
   },
   "file_extension": ".py",
   "mimetype": "text/x-python",
   "name": "python",
   "nbconvert_exporter": "python",
   "pygments_lexer": "ipython3",
   "version": "3.6.7"
  }
 },
 "nbformat": 4,
 "nbformat_minor": 2
}
