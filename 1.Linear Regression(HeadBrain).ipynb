{
 "cells": [
  {
   "cell_type": "markdown",
   "metadata": {},
   "source": [
    "### Understanding Linear Regression\n",
    "- Linear Regression is a statistical model used to predict the relationship between independent and dependent variable\n",
    "\n",
    "- Examine based on 2 factors\n",
    "\n",
    "    1. Which variables in particular are significant predictors of the outcome variables?\n",
    "\n",
    "    2. How significant is the regression line to make predictions with highest possible accuracy"
   ]
  },
  {
   "cell_type": "markdown",
   "metadata": {},
   "source": [
    "### Regression Equation\n",
    "- The simplest form of a simple linear regression equation with one dependent and one independent variable is represented by:\n",
    "$$y= mx + c$$                        \n",
    "                        \n",
    "  $y--->Dependent\\;Variable$  \n",
    "  \n",
    "  $x---> Independent\\;Variable$\n",
    "  \n",
    "  $m---> Slope\\;of\\;a\\;line$\n",
    "  \n",
    "  $$m = \\frac{y2-y1}  {x2-x1}$$\n",
    "  \n",
    "  $c---> Co-Efficient of a Line$"
   ]
  },
  {
   "cell_type": "markdown",
   "metadata": {},
   "source": [
    "### Intuition behind the Regression line"
   ]
  },
  {
   "cell_type": "code",
   "execution_count": 7,
   "metadata": {},
   "outputs": [
    {
     "data": {
      "image/png": "[encoded data removed]",
      "text/plain": [
       "<Figure size 432x288 with 1 Axes>"
      ]
     },
     "metadata": {
      "needs_background": "light"
     },
     "output_type": "display_data"
    }
   ],
   "source": [
    "import matplotlib.pyplot as plt\n",
    "X = [1,2,3,4,5] #Independent Variable\n",
    "Y = [2,4,5,4,5] #Dependent Variable\n",
    "plt.scatter(X,Y)\n",
    "plt.show()"
   ]
  },
  {
   "cell_type": "code",
   "execution_count": 8,
   "metadata": {},
   "outputs": [
    {
     "name": "stdout",
     "output_type": "stream",
     "text": [
      "Mean of X: 3.0\n",
      "Mean of Y: 4.0\n"
     ]
    }
   ],
   "source": [
    "import numpy as np\n",
    "# Finding mean of X & Y\n",
    "# Mean of X = (1+2+3+4+5)/5 = 3\n",
    "# Mean of Y = (2+4+5+4+5)/5 = 4\n",
    "print(\"Mean of X:\",np.mean(X))\n",
    "print(\"Mean of Y:\",np.mean(Y))\n",
    "#(3,4) is the regression line "
   ]
  },
  {
   "cell_type": "markdown",
   "metadata": {},
   "source": [
    "$$ m = \\frac {(n * \\sum{XY}) -(\\sum{X}*\\sum{Y})}  {(n * \\sum{X^2}) - ( \\sum{X^2})} =\\frac{(5*66)-(15*20)} {(5*55)-(225} = 0.6 $$\n",
    "\n",
    "$$ c = \\frac{(\\sum{Y}*{X^2})-(\\sum{X}*\\sum{XY})} {(n * \\sum{X^2}) - ( \\sum{X^2})} = 2.2 $$\n",
    "\n",
    "$$ y = m*X+c $$\n",
    "\n",
    "$$   = 0.6*3 +2.2 = 4$$"
   ]
  },
  {
   "cell_type": "markdown",
   "metadata": {},
   "source": [
    "$$ Y_Pred $$\n",
    "\n",
    "$$Y = 0.6(1)+2.2=2.8$$\n",
    "$$Y = 0.6()+2.2=3.4$$\n",
    "$$Y = 0.6(3)+2.2=4$$\n",
    "$$Y = 0.6(4)+2.2=4.6$$\n",
    "$$Y = 0.6(5)+2.2=5.2$$"
   ]
  },
  {
   "cell_type": "code",
   "execution_count": 24,
   "metadata": {},
   "outputs": [
    {
     "data": {
      "image/png": "[encoded data removed]",
      "text/plain": [
       "<Figure size 432x288 with 1 Axes>"
      ]
     },
     "metadata": {
      "needs_background": "light"
     },
     "output_type": "display_data"
    }
   ],
   "source": [
    "y_pred=[2.8,3.4,4,4.6,5.2]\n",
    "plt.scatter(X,Y)\n",
    "plt.plot(y_pred,c=\"r\")\n",
    "plt.show()"
   ]
  },
  {
   "cell_type": "markdown",
   "metadata": {},
   "source": [
    "Here Blue-points represent the actual Y Values and Red points represent the Predicted Y Values. The distance between the actual and predicted values are known as *RESIDUALS or ERRORS*.The best fit line should have the least sum of squares of these errors also known as e-square"
   ]
  },
  {
   "cell_type": "code",
   "execution_count": null,
   "metadata": {},
   "outputs": [],
   "source": [
    "Reg={\n",
    "    \"X\":['1','2','3','4','5'],\n",
    "    'Y':['2','4','5','4','5',],\n",
    "    'Y_Pred':['2.8','3.4','4','4.6','5.2'],\n",
    "    '(Y-Y_Pred)':['-0.8','0.6','1','-0.6','-0.2'],\n",
    "    '(Y-Y_Pred)^2':['0.64','0.36','1','0.36','0.04']\n",
    "}\n",
    "data=pd.DataFrame(Reg)\n",
    "data\n"
   ]
  },
  {
   "cell_type": "markdown",
   "metadata": {},
   "source": [
    "$$ \\sum(Y-Y_Pred)^2=2.4 $$\n",
    "\n",
    "The sum of squared errors for this regression line is 2.4.We check this error for each line and conclude the best fit line having the least square value"
   ]
  },
  {
   "cell_type": "markdown",
   "metadata": {},
   "source": [
    "## Finding the best fit line\n",
    "- Minimizing the Distance:\n",
    "There are lots of ways to minimize distance between the line and the data points like *Sum of Squared errors,Sum of Absolute errors,RMS error* etc"
   ]
  },
  {
   "cell_type": "markdown",
   "metadata": {},
   "source": [
    "## Multiple Linear Regression\n",
    "\n",
    "1. Simple linear Regression \n",
    "\n",
    "$$ Y = MX + C $$\n",
    "\n",
    "2. Multiple linear Regression\n",
    "\n",
    "$$ Y = M_1X_1 + M_2X_2 + M_3X_3 + ..... + M_nX_n + C   $$\n"
   ]
  },
  {
   "cell_type": "markdown",
   "metadata": {},
   "source": [
    "## Implementation of Linear Regresssion \n",
    "### Example: Profit Estimation of a company\n",
    "#####  Which companies shall i invest?\n",
    " ###### Idea \n",
    "- Decide compaines to invest\n",
    "- Predict the profit companies make\n",
    "- Based on companies expenses\n",
    "##### For simpliciity, lets consider a single variable(R&D) and find out which companies to invest in\n",
    "- Companies spending more on R&D makes good profit,lets invest in them"
   ]
  },
  {
   "cell_type": "code",
   "execution_count": null,
   "metadata": {},
   "outputs": [],
   "source": [
    "#Importing Libraries\n",
    "import pandas as pd # Manipulating data\n",
    "import numpy as np  #Number Python for numericals\n",
    "import matplotlib.pyplot as plt #Visualization\n",
    "import seaborn as sns #Visualization\n",
    "%matplotlib inline #To see graph when it comes up"
   ]
  },
  {
   "cell_type": "code",
   "execution_count": null,
   "metadata": {},
   "outputs": [],
   "source": [
    "#Reading data\n",
    "url=(\"C:\\\\Users\\\\abhishek\\\\Downloads\\\\Edureka\\\\Datasets\\\\headbrain.csv\")\n",
    "data=pd.read_csv(url)\n",
    "print(data.shape)\n",
    "data.head()"
   ]
  },
  {
   "cell_type": "code",
   "execution_count": null,
   "metadata": {},
   "outputs": [],
   "source": [
    "#Collecting X and Y\n",
    "X = data[\"Head Size(cm^3)\"].values\n",
    "Y = data[\"Brain Weight(grams)\"].values"
   ]
  },
  {
   "cell_type": "markdown",
   "metadata": {},
   "source": [
    "# Implementing by Formula"
   ]
  },
  {
   "cell_type": "code",
   "execution_count": null,
   "metadata": {},
   "outputs": [],
   "source": [
    "# Mean X & Y\n",
    "mean_x = np.mean(X)\n",
    "mean_y = np.mean(Y)\n",
    "\n",
    "#Total number of values\n",
    "n = len(X)\n",
    "\n",
    "#Using the formula to calculate b1 & b0\n",
    "numer = 0\n",
    "denom = 0 \n",
    "for i in range(n):\n",
    "    numer+= (X[i] - mean_x) * (Y[i] - mean_x)\n",
    "    denom+= (X[i] - mean_x) ** 2\n",
    "b1 = numer / denom\n",
    "b0 = mean_y - (b1 * mean_x)\n",
    "\n",
    "#Printing Co-Efficients\n",
    "print(b1,b0)\n",
    "\n",
    "# Y=MX + C\n",
    "# M=b1 C=b0"
   ]
  },
  {
   "cell_type": "code",
   "execution_count": null,
   "metadata": {},
   "outputs": [],
   "source": [
    "#Plotting values and Regression line\n",
    "\n",
    "max_X = np.max(X) + 100\n",
    "min_X = np.min(X) + 100\n",
    "\n",
    "#Calculating line values X and Y\n",
    "x=np.linspace(min_X, max_X,1000)\n",
    "y=b0+b1*x\n",
    "\n",
    "#Plotting line\n",
    "plt.plot(x,y,color=\"red\",label=\"Regression Line\")\n",
    "#Plotting scatter points\n",
    "plt.scatter(X,Y,color='black',label=\"Scatter plot\")\n",
    "\n",
    "plt.xlabel(\"Head size in cm^3\")\n",
    "plt.ylabel(\"Brain Weight in grams\")\n",
    "plt.legend()\n",
    "plt.show()"
   ]
  },
  {
   "cell_type": "code",
   "execution_count": null,
   "metadata": {},
   "outputs": [],
   "source": [
    "ss_t = 0  #Total sum of square\n",
    "ss_r = 0  #Total sum of square residual\n",
    "for i in range(n):\n",
    "    y_pred = b0 + b1 *X[i]\n",
    "    ss_t+= (Y[i] - mean_y) **2\n",
    "    ss_r+= (Y[i] - y_pred) **2\n",
    "r2 = 1-(ss_r/ss_t)\n",
    "print(r2)\n"
   ]
  },
  {
   "cell_type": "markdown",
   "metadata": {},
   "source": [
    "# Implementing Using SciKit Learn"
   ]
  },
  {
   "cell_type": "code",
   "execution_count": null,
   "metadata": {},
   "outputs": [],
   "source": [
    "from sklearn.linear_model import LinearRegression\n",
    "from sklearn.metrics import mean_squared_error\n",
    "\n",
    "#Cannot use Rank 1 matrix in sckikit learn\n",
    "X= X.reshape((n,1))\n",
    "\n",
    "#Creating model\n",
    "model = LinearRegression()\n",
    "\n",
    "#Fitting training data\n",
    "model = model.fit(X,Y)\n",
    "\n",
    "#Y prediction\n",
    "Y_pred =model.predict(X)\n",
    "\n",
    "#Calculating RMSE and R2 score\n",
    "mse = mean_squared_error(Y,Y_pred)\n",
    "rmse = np.sqrt(mse)\n",
    "r2_score =model.score(X,Y)\n",
    "\n",
    "print(np.sqrt(mse))\n",
    "print(r2_score)\n",
    "\n"
   ]
  }
 ],
 "metadata": {
  "kernelspec": {
   "display_name": "Python 3",
   "language": "python",
   "name": "python3"
  },
  "language_info": {
   "codemirror_mode": {
    "name": "ipython",
    "version": 3
   },
   "file_extension": ".py",
   "mimetype": "text/x-python",
   "name": "python",
   "nbconvert_exporter": "python",
   "pygments_lexer": "ipython3",
   "version": "3.6.7"
  }
 },
 "nbformat": 4,
 "nbformat_minor": 2
}
